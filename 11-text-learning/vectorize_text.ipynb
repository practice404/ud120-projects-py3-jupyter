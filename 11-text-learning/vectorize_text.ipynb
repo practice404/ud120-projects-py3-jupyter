{
 "cells": [
  {
   "cell_type": "markdown",
   "metadata": {},
   "source": [
    "# Starter Code for the Lesson 11: Text Learning Mini-Project"
   ]
  },
  {
   "cell_type": "code",
   "execution_count": 1,
   "metadata": {},
   "outputs": [],
   "source": [
    "import os\n",
    "import pickle\n",
    "import re\n",
    "import sys\n",
    "\n",
    "sys.path.append('../utils/')\n",
    "from parse_out_email_text import parse_out_text"
   ]
  },
  {
   "cell_type": "markdown",
   "metadata": {},
   "source": [
    "Starter code to process the emails from Sara and Chris to extract\n",
    "the features and get the documents ready for classification.\n",
    "\n",
    "The list of all the emails from Sara are in the `from_sara` list\n",
    "likewise for emails from Chris (`from_chris`)\n",
    "\n",
    "The actual documents are in the Enron email dataset, which\n",
    "you downloaded/unpacked in Part 0 of the first mini-project. If you have\n",
    "not obtained the Enron email corpus, run `starter.py` in the `utils` folder.\n",
    "\n",
    "The data is stored in lists and packed away in pickle files at the end."
   ]
  },
  {
   "cell_type": "code",
   "execution_count": 5,
   "metadata": {},
   "outputs": [
    {
     "name": "stdout",
     "output_type": "stream",
     "text": [
      "../maildir/bailey-s/deleted_items/101.\n"
     ]
    },
    {
     "ename": "FileNotFoundError",
     "evalue": "[Errno 2] No such file or directory: '../maildir/bailey-s/deleted_items/101.'",
     "output_type": "error",
     "traceback": [
      "\u001b[0;31m---------------------------------------------------------------------------\u001b[0m",
      "\u001b[0;31mFileNotFoundError\u001b[0m                         Traceback (most recent call last)",
      "\u001b[0;32m/var/folders/_v/bhr29ckd759fkz4gv9xgp72w0000gn/T/ipykernel_1932/91034462.py\u001b[0m in \u001b[0;36m<module>\u001b[0;34m\u001b[0m\n\u001b[1;32m     18\u001b[0m                 \u001b[0mpath\u001b[0m \u001b[0;34m=\u001b[0m \u001b[0mos\u001b[0m\u001b[0;34m.\u001b[0m\u001b[0mpath\u001b[0m\u001b[0;34m.\u001b[0m\u001b[0mjoin\u001b[0m\u001b[0;34m(\u001b[0m\u001b[0;34m'..'\u001b[0m\u001b[0;34m,\u001b[0m \u001b[0mpath\u001b[0m\u001b[0;34m[\u001b[0m\u001b[0;34m:\u001b[0m\u001b[0;34m-\u001b[0m\u001b[0;36m1\u001b[0m\u001b[0;34m]\u001b[0m\u001b[0;34m)\u001b[0m\u001b[0;34m\u001b[0m\u001b[0;34m\u001b[0m\u001b[0m\n\u001b[1;32m     19\u001b[0m                 \u001b[0mprint\u001b[0m\u001b[0;34m(\u001b[0m\u001b[0mpath\u001b[0m\u001b[0;34m)\u001b[0m\u001b[0;34m\u001b[0m\u001b[0;34m\u001b[0m\u001b[0m\n\u001b[0;32m---> 20\u001b[0;31m                 \u001b[0;32mwith\u001b[0m \u001b[0mopen\u001b[0m\u001b[0;34m(\u001b[0m\u001b[0mpath\u001b[0m\u001b[0;34m,\u001b[0m \u001b[0;34m\"r\"\u001b[0m\u001b[0;34m)\u001b[0m \u001b[0;32mas\u001b[0m \u001b[0memail\u001b[0m\u001b[0;34m:\u001b[0m\u001b[0;34m\u001b[0m\u001b[0;34m\u001b[0m\u001b[0m\n\u001b[0m\u001b[1;32m     21\u001b[0m                     \u001b[0mcontent\u001b[0m \u001b[0;34m=\u001b[0m \u001b[0mparse_out_text\u001b[0m\u001b[0;34m(\u001b[0m\u001b[0memail\u001b[0m\u001b[0;34m)\u001b[0m\u001b[0;34m\u001b[0m\u001b[0;34m\u001b[0m\u001b[0m\n\u001b[1;32m     22\u001b[0m \u001b[0;34m\u001b[0m\u001b[0m\n",
      "\u001b[0;31mFileNotFoundError\u001b[0m: [Errno 2] No such file or directory: '../maildir/bailey-s/deleted_items/101.'"
     ]
    }
   ],
   "source": [
    "with open(\"from_sara.txt\", \"r\") as from_sara, open(\"from_chris.txt\", \"r\") as from_chris:\n",
    "    from_data = []\n",
    "    word_data = []\n",
    "    \n",
    "    # temp_counter is a way to speed up the development--there are\n",
    "    # thousands of emails from Sara and Chris, so running over all of them\n",
    "    # can take a long time\n",
    "    # temp_counter helps you only look at the first 200 emails in the list so you\n",
    "    # can iterate your modifications quicker\n",
    "    temp_counter = 0\n",
    "\n",
    "    for name, from_person in [(\"sara\", from_sara), (\"chris\", from_chris)]:\n",
    "        for path in from_person:\n",
    "            # only look at first 200 emails when developing\n",
    "            # once everything is working, remove this line to run over full dataset\n",
    "            temp_counter += 1\n",
    "            if temp_counter < 200:\n",
    "                path = os.path.join('..', path[:-1])\n",
    "                print(path)\n",
    "                with open(path, \"r\") as email:\n",
    "                    content = parse_out_text(email)\n",
    "                    \n",
    "                    # use parse_out_text to extract the text from the opened email\n",
    "\n",
    "                    # use str.replace() to remove any instances of the words\n",
    "                    for r in [\"sara\", \"shackleton\", \"chris\", \"germani\"]:\n",
    "                        content.replace(r,\"\")\n",
    "                    \n",
    "                    # append the text to word_data\n",
    "                    word_data.append(content)\n",
    "                    # append a 0 to from_data if email is from Sara, and 1 if email is from Chris\n",
    "                    if name == \"sara\":\n",
    "                        from_data.append(0)\n",
    "                    elif name == \"chris\":\n",
    "                        from_data.append(1)\n",
    "print(\"Emails processed\")\n",
    "\n",
    "with open(\"your_word_data.pkl\", \"w\") as f:\n",
    "    pickle.dump(word_data, f)\n",
    "\n",
    "with open(\"your_email_authors.pkl\", \"w\") as f:\n",
    "    pickle.dump(from_data, f)"
   ]
  },
  {
   "cell_type": "markdown",
   "metadata": {},
   "source": [
    "## Part 4, do TfIdf vectorization here"
   ]
  },
  {
   "cell_type": "markdown",
   "metadata": {},
   "source": [
    "## ↓↓↓ Your Code Goes Here ↓↓↓"
   ]
  },
  {
   "cell_type": "code",
   "execution_count": null,
   "metadata": {},
   "outputs": [],
   "source": []
  }
 ],
 "metadata": {
  "kernelspec": {
   "display_name": "venv",
   "language": "python",
   "name": "venv"
  },
  "language_info": {
   "codemirror_mode": {
    "name": "ipython",
    "version": 3
   },
   "file_extension": ".py",
   "mimetype": "text/x-python",
   "name": "python",
   "nbconvert_exporter": "python",
   "pygments_lexer": "ipython3",
   "version": "3.8.9"
  }
 },
 "nbformat": 4,
 "nbformat_minor": 4
}
