{
 "cells": [
  {
   "cell_type": "markdown",
   "metadata": {},
   "source": [
    "# Starter Code for the Lesson 14: Validation"
   ]
  },
  {
   "cell_type": "markdown",
   "metadata": {},
   "source": [
    "The first step toward building your POI identifier!\n",
    "\n",
    "Start by loading/formatting the data\n",
    "\n",
    "After that, it's not our code anymore--it's yours!"
   ]
  },
  {
   "cell_type": "code",
   "execution_count": 1,
   "metadata": {},
   "outputs": [],
   "source": [
    "import sys\n",
    "import pickle\n",
    "\n",
    "sys.path.append(\"../utils/\")\n",
    "from feature_format import feature_format, target_feature_split"
   ]
  },
  {
   "cell_type": "code",
   "execution_count": 2,
   "metadata": {},
   "outputs": [],
   "source": [
    "with open('../17-final-project/final_project_dataset.pkl', 'rb') as f:\n",
    "    data_dict = pickle.load(f)"
   ]
  },
  {
   "cell_type": "markdown",
   "metadata": {},
   "source": [
    "First element is our labels, any added elements are predictor\n",
    "features. Keep this the same for the mini-project, but you'll\n",
    "have a different feature list when you do the final project."
   ]
  },
  {
   "cell_type": "code",
   "execution_count": 33,
   "metadata": {},
   "outputs": [],
   "source": [
    "features_list = [\"poi\", \"salary\"]\n",
    "\n",
    "data = feature_format(data_dict, features_list)\n",
    "labels, features = target_feature_split(data)\n",
    "\n",
    "# from sklearn.model_selection import train_test_split\n",
    "\n",
    "#importing Kfold class\n",
    "from sklearn.model_selection import KFold\n",
    "# making instance of that class\n",
    "kf  = KFold(n_splits=5, shuffle=True, random_state=0)\n",
    "# n_splits is in how many bins you want your data to get split\n",
    "# shuffle is to make sure to selct random data for train/test\n",
    "\n",
    "for train_index, test_index in kf.split(features): # returns the indices for train/test data\n",
    "    X_train = [features[ii] for ii in train_index]\n",
    "    X_test = [features[ii] for ii in test_index]\n",
    "    y_train = [labels[ii] for ii in train_index]\n",
    "    y_test = [labels[ii] for ii in test_index]\n"
   ]
  },
  {
   "cell_type": "markdown",
   "metadata": {},
   "source": [
    "## ↓↓↓ Model Training↓↓↓"
   ]
  },
  {
   "cell_type": "code",
   "execution_count": 34,
   "metadata": {},
   "outputs": [
    {
     "data": {
      "text/plain": [
       "0.6842105263157895"
      ]
     },
     "execution_count": 34,
     "metadata": {},
     "output_type": "execute_result"
    }
   ],
   "source": [
    "from sklearn.tree import DecisionTreeClassifier\n",
    "from sklearn.metrics import accuracy_score\n",
    "clf = DecisionTreeClassifier()\n",
    "clf.fit(X_train,y_train) # use the training set for model fitting\n",
    "accuracy_score(y_test,clf.predict(X_test)) # use test set for prediction"
   ]
  },
  {
   "cell_type": "code",
   "execution_count": null,
   "metadata": {},
   "outputs": [],
   "source": []
  }
 ],
 "metadata": {
  "kernelspec": {
   "display_name": "venv",
   "language": "python",
   "name": "venv"
  },
  "language_info": {
   "codemirror_mode": {
    "name": "ipython",
    "version": 3
   },
   "file_extension": ".py",
   "mimetype": "text/x-python",
   "name": "python",
   "nbconvert_exporter": "python",
   "pygments_lexer": "ipython3",
   "version": "3.8.9"
  }
 },
 "nbformat": 4,
 "nbformat_minor": 4
}
