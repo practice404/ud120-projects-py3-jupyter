{
 "cells": [
  {
   "cell_type": "markdown",
   "metadata": {},
   "source": [
    "# Starter code for the Outliers Mini-Project"
   ]
  },
  {
   "cell_type": "code",
   "execution_count": 1,
   "metadata": {},
   "outputs": [],
   "source": [
    "import random\n",
    "import pickle\n",
    "\n",
    "import numpy as np\n",
    "import matplotlib.pyplot as plt"
   ]
  },
  {
   "cell_type": "markdown",
   "metadata": {},
   "source": [
    "## Load up some practice data with outliers in it"
   ]
  },
  {
   "cell_type": "code",
   "execution_count": 2,
   "metadata": {},
   "outputs": [],
   "source": [
    "with open('practice_outliers_ages.pkl', 'rb') as f:\n",
    "    ages = pickle.load(f)\n",
    "    \n",
    "with open('practice_outliers_net_worths.pkl', 'rb') as f:\n",
    "    net_worths = pickle.load(f)"
   ]
  },
  {
   "cell_type": "markdown",
   "metadata": {},
   "source": [
    "- ages and net_worths need to be reshaped into 2D numpy arrays\n",
    "- second argument of reshape command is a tuple of integers: `(n_rows, n_columns)`\n",
    "- by convention, `n_rows` is the number of data points\n",
    "- and `n_columns` is the number of features"
   ]
  },
  {
   "cell_type": "code",
   "execution_count": 3,
   "metadata": {},
   "outputs": [],
   "source": [
    "from sklearn.model_selection import train_test_split\n",
    "\n",
    "ages = np.reshape(np.array(ages), (len(ages), 1))\n",
    "net_worths = np.reshape(np.array(net_worths), (len(net_worths), 1))\n",
    "\n",
    "ages_train, ages_test, net_worths_train, net_worths_test = train_test_split(ages, net_worths, test_size=0.1, random_state=42)"
   ]
  },
  {
   "cell_type": "markdown",
   "metadata": {},
   "source": [
    "## ↓↓↓ Your Code Goes Here ↓↓↓"
   ]
  },
  {
   "cell_type": "markdown",
   "metadata": {},
   "source": [
    "Fill in a regression here!  Name the regression object `reg` so that the plotting code below works, and you can see what your regression looks like"
   ]
  },
  {
   "cell_type": "code",
   "execution_count": 4,
   "metadata": {},
   "outputs": [
    {
     "name": "stdout",
     "output_type": "stream",
     "text": [
      "[[5.07793064]]\n"
     ]
    },
    {
     "data": {
      "text/plain": [
       "0.8782624703664672"
      ]
     },
     "execution_count": 4,
     "metadata": {},
     "output_type": "execute_result"
    }
   ],
   "source": [
    "from sklearn.linear_model import LinearRegression\n",
    "reg = LinearRegression()\n",
    "reg.fit(ages_train,net_worths_train)\n",
    "print(reg.coef_)\n",
    "reg.score(ages_test,net_worths_test)"
   ]
  },
  {
   "cell_type": "code",
   "execution_count": 5,
   "metadata": {},
   "outputs": [
    {
     "data": {
      "image/png": "[encoded data removed]",
      "text/plain": [
       "<Figure size 432x288 with 1 Axes>"
      ]
     },
     "metadata": {
      "needs_background": "light"
     },
     "output_type": "display_data"
    }
   ],
   "source": [
    "try:\n",
    "    plt.plot(ages, reg.predict(ages), color=\"blue\")\n",
    "except NameError:\n",
    "    pass\n",
    "plt.scatter(ages, net_worths)\n",
    "plt.show()"
   ]
  },
  {
   "cell_type": "markdown",
   "metadata": {},
   "source": [
    "## Identify and remove the most outlier-y points"
   ]
  },
  {
   "cell_type": "code",
   "execution_count": 23,
   "metadata": {},
   "outputs": [],
   "source": [
    "def outlier_cleaner(predictions, ages, net_worths):\n",
    "    \"\"\"Clean away the 10% of points that have the largest\n",
    "    residual errors (difference between the prediction\n",
    "    and the actual net worth).\n",
    "\n",
    "    Return a list of tuples named cleaned_data where\n",
    "    each tuple is of the form (age, net_worth, error).\n",
    "    \"\"\"\n",
    "    cleaned_data = []\n",
    "    num_10per_data = int(len(predictions)*0.9)\n",
    "    error = (net_worths-predictions)**2\n",
    "\n",
    "    for i in range(len(predictions)):\n",
    "        tup = tuple((int(ages[i]),float(net_worths[i]),float(error[i])))\n",
    "        cleaned_data.append(tup)\n",
    "    cleaned_data = sorted(cleaned_data, key=lambda s: s[2])\n",
    "    cleaned_data = cleaned_data[:num_10per_data]\n",
    "    return cleaned_data"
   ]
  },
  {
   "cell_type": "code",
   "execution_count": 26,
   "metadata": {},
   "outputs": [],
   "source": [
    "cleaned_data = []\n",
    "\n",
    "try:\n",
    "    predictions = reg.predict(ages_train)\n",
    "    cleaned_data = outlier_cleaner(predictions, ages_train, net_worths_train)\n",
    "except NameError:\n",
    "    print(\"Your regression object doesn't exist, or isn't name reg\")\n",
    "    print(\"Can't make predictions to use in identifying outliers\")"
   ]
  },
  {
   "cell_type": "markdown",
   "metadata": {},
   "source": [
    "**Only run this code if `cleaned_data` is returning data**"
   ]
  },
  {
   "cell_type": "code",
   "execution_count": 29,
   "metadata": {},
   "outputs": [
    {
     "name": "stdout",
     "output_type": "stream",
     "text": [
      "[[6.36859481]]\n"
     ]
    },
    {
     "data": {
      "image/png": "[encoded data removed]",
      "text/plain": [
       "<Figure size 432x288 with 1 Axes>"
      ]
     },
     "metadata": {
      "needs_background": "light"
     },
     "output_type": "display_data"
    }
   ],
   "source": [
    "if cleaned_data:\n",
    "    ages = []\n",
    "    net_worths = []\n",
    "    errors = []\n",
    "    for data in cleaned_data:\n",
    "        age,net_worth,error = data\n",
    "        ages.append(age)\n",
    "        net_worths.append(net_worth)\n",
    "        errors.append(error)\n",
    "    ages = np.reshape(np.array(ages), (len(ages), 1))\n",
    "    net_worths = np.reshape(np.array(net_worths), (len(net_worths), 1))\n",
    "\n",
    "    # Refit your cleaned data!\n",
    "\n",
    "    try:\n",
    "        reg.fit(ages, net_worths)\n",
    "        plt.plot(ages, reg.predict(ages), color=\"blue\")\n",
    "    except NameError:\n",
    "        print(\"you don't seem to have regression imported/created,\")\n",
    "        print(\"   or else your regression object isn't named reg\")\n",
    "        print(\"   either way, only draw the scatter plot of the cleaned data\")\n",
    "\n",
    "    plt.scatter(ages, net_worths)\n",
    "    plt.xlabel(\"ages\")\n",
    "    plt.ylabel(\"net worths\")\n",
    "    plt.show()\n",
    "else:\n",
    "    print(\"outlier_cleaner() is returning an empty list, no refitting to be done\")"
   ]
  },
  {
   "cell_type": "code",
   "execution_count": 30,
   "metadata": {},
   "outputs": [
    {
     "data": {
      "text/plain": [
       "0.9831894553955322"
      ]
     },
     "execution_count": 30,
     "metadata": {},
     "output_type": "execute_result"
    }
   ],
   "source": [
    "reg.score(ages_test,net_worths_test)"
   ]
  },
  {
   "cell_type": "markdown",
   "metadata": {},
   "source": [
    "## Enron Outliers"
   ]
  },
  {
   "cell_type": "code",
   "execution_count": 31,
   "metadata": {},
   "outputs": [],
   "source": [
    "import sys\n",
    "import pickle\n",
    "import matplotlib.pyplot\n",
    "\n",
    "sys.path.append(\"../utils/\")\n",
    "\n",
    "from feature_format import feature_format, target_feature_split"
   ]
  },
  {
   "cell_type": "markdown",
   "metadata": {},
   "source": [
    "read in data dictionary, convert to numpy array"
   ]
  },
  {
   "cell_type": "code",
   "execution_count": 58,
   "metadata": {},
   "outputs": [],
   "source": [
    "with open('../17-final-project/final_project_dataset.pkl', 'rb') as f:\n",
    "    data_dict = pickle.load(f)\n",
    "data_dict.pop('TOTAL')\n",
    "\n",
    "features = [\"salary\", \"bonus\"]\n",
    "data = feature_format(data_dict, features)"
   ]
  },
  {
   "cell_type": "markdown",
   "metadata": {},
   "source": [
    "## ↓↓↓ Your Code Goes Here ↓↓↓"
   ]
  },
  {
   "cell_type": "code",
   "execution_count": 59,
   "metadata": {},
   "outputs": [
    {
     "data": {
      "image/png": "[encoded data removed]",
      "text/plain": [
       "<Figure size 432x288 with 1 Axes>"
      ]
     },
     "metadata": {
      "needs_background": "light"
     },
     "output_type": "display_data"
    }
   ],
   "source": [
    "for point in data:\n",
    "    salary = point[0]\n",
    "    bonus = point[1]\n",
    "    matplotlib.pyplot.scatter( salary, bonus )\n",
    "\n",
    "matplotlib.pyplot.xlabel(\"salary\")\n",
    "matplotlib.pyplot.ylabel(\"bonus\")\n",
    "matplotlib.pyplot.show()"
   ]
  },
  {
   "cell_type": "code",
   "execution_count": 65,
   "metadata": {},
   "outputs": [],
   "source": [
    "sorted_data = sorted(data, key=lambda x: x[1], reverse=True)[:5]"
   ]
  },
  {
   "cell_type": "code",
   "execution_count": 66,
   "metadata": {},
   "outputs": [
    {
     "name": "stdout",
     "output_type": "stream",
     "text": [
      "LAY KENNETH L\n",
      "SKILLING JEFFREY K\n"
     ]
    }
   ],
   "source": [
    "for key,value in data_dict.items():\n",
    "    if data_dict[key]['bonus'] == sorted_data[1][1] or data_dict[key]['bonus']==sorted_data[2][1]:\n",
    "        print(key)\n"
   ]
  },
  {
   "cell_type": "code",
   "execution_count": null,
   "metadata": {},
   "outputs": [],
   "source": []
  }
 ],
 "metadata": {
  "kernelspec": {
   "display_name": "venv",
   "language": "python",
   "name": "venv"
  },
  "language_info": {
   "codemirror_mode": {
    "name": "ipython",
    "version": 3
   },
   "file_extension": ".py",
   "mimetype": "text/x-python",
   "name": "python",
   "nbconvert_exporter": "python",
   "pygments_lexer": "ipython3",
   "version": "3.8.9"
  }
 },
 "nbformat": 4,
 "nbformat_minor": 4
}
